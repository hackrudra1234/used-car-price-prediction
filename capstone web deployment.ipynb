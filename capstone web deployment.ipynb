{
 "cells": [
  {
   "cell_type": "code",
   "execution_count": 3,
   "metadata": {},
   "outputs": [
    {
     "name": "stdout",
     "output_type": "stream",
     "text": [
      "b'{\"Results\":{\"output1\":[{\"kilometer\":\"8000\",\"notRepairedDamage\":\"No\",\"vehicleType\":\"limousine\",\"fuelType\":\"petrol\",\"gearbox\":\"manual\",\"ageOfVehicle\":\"6\",\"model\":\"golf\",\"brand\":\"volkswagen\",\"powerPS\":\"200\",\"No_of_days_online\":\"8\",\"state\":\"Bayern\",\"CountryOfManufacture\":\"Germany\",\"price\":null,\"Scored Labels\":\"24810.189453125\"}]}}'\n"
     ]
    }
   ],
   "source": [
    "import urllib.request\n",
    "import json\n",
    "\n",
    "data = {\n",
    "        \"Inputs\": {\n",
    "                \"input1\":\n",
    "                [\n",
    "                    {\n",
    "                            'kilometer': \"8000\",   \n",
    "                            'notRepairedDamage': \"No\",   \n",
    "                            'vehicleType': \"limousine\",   \n",
    "                            'fuelType': \"petrol\",   \n",
    "                            'gearbox': \"manual\",   \n",
    "                            'ageOfVehicle': \"6\",   \n",
    "                            'model': \"golf\",   \n",
    "                            'brand': \"volkswagen\",   \n",
    "                            'powerPS': \"200\",   \n",
    "                            'No_of_days_online': \"8\",   \n",
    "                            'state': \"Bayern\",   \n",
    "                            'CountryOfManufacture': \"Germany\",   \n",
    "                            'price': \"\",   \n",
    "                    }\n",
    "                ],\n",
    "        },\n",
    "    \"GlobalParameters\":  {\n",
    "    }\n",
    "}\n",
    "\n",
    "body = str.encode(json.dumps(data))\n",
    "\n",
    "url = 'https://ussouthcentral.services.azureml.net/workspaces/7e123f354e394ce6b36d19ced035b58a/services/36ec98d1e3614c8ba7c11d2fd1ee8883/execute?api-version=2.0&format=swagger'\n",
    "api_key = 'Rs2Yjan6Jm+Ev4tPDWElgoPA6QPcaNDlIRGUMujyZDsrvk/WsRY5spc9LnmOaM4IALXtmetv3/KLe2oC1TLjrw==' # Replace this with the API key for the web service\n",
    "headers = {'Content-Type':'application/json', 'Authorization':('Bearer '+ api_key)}\n",
    "\n",
    "req = urllib.request.Request(url, body, headers)\n",
    "\n",
    "try:\n",
    "    response = urllib.request.urlopen(req)\n",
    "\n",
    "    result = response.read()\n",
    "    print(result)\n",
    "except urllib.error.HTTPError as error:\n",
    "    print(\"The request failed with status code: \" + str(error.code))\n",
    "\n",
    "    # Print the headers - they include the requert ID and the timestamp, which are useful for debugging the failure\n",
    "    print(error.info())\n",
    "    print(json.loads(error.read().decode(\"utf8\", 'ignore')))\n"
   ]
  },
  {
   "cell_type": "code",
   "execution_count": null,
   "metadata": {},
   "outputs": [],
   "source": []
  }
 ],
 "metadata": {
  "kernelspec": {
   "display_name": "Python 3",
   "language": "python",
   "name": "python3"
  },
  "language_info": {
   "codemirror_mode": {
    "name": "ipython",
    "version": 3
   },
   "file_extension": ".py",
   "mimetype": "text/x-python",
   "name": "python",
   "nbconvert_exporter": "python",
   "pygments_lexer": "ipython3",
   "version": "3.7.4"
  }
 },
 "nbformat": 4,
 "nbformat_minor": 2
}
